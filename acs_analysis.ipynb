{
 "cells": [
  {
   "cell_type": "markdown",
   "id": "fbec47f2-fb26-4123-83fe-e755a42a5bdd",
   "metadata": {},
   "source": [
    "# ACS Analysis"
   ]
  },
  {
   "cell_type": "code",
   "execution_count": 1,
   "id": "24910816-a873-4bac-a7ab-e178d18eaeb3",
   "metadata": {},
   "outputs": [],
   "source": [
    "import pandas as pd"
   ]
  },
  {
   "cell_type": "code",
   "execution_count": 2,
   "id": "cdaa6e99-3893-4b59-bf9c-6770c2d2dbba",
   "metadata": {},
   "outputs": [],
   "source": [
    "data = pd.read_csv('/Users/jamesgeiger/University of Nebraska Omaha/FALL 2021/ECON 4320/project/nhgis0005_csv/nhgis0005_ds244_20195_blck_grp_E.csv')"
   ]
  },
  {
   "cell_type": "code",
   "execution_count": 3,
   "id": "0b335a2f-0cc6-4066-bd78-8ee2e93bed21",
   "metadata": {},
   "outputs": [],
   "source": [
    "# rename columns according to IPUMS codebook\n",
    "data = data.rename(columns={\n",
    "    # Race\n",
    "    'ALUCE001':    'Total',\n",
    "    'ALUCE002':    'White alone',\n",
    "    'ALUCE003':    'Black or African American alone',\n",
    "    'ALUCE004':    'American Indian and Alaska Native alone',\n",
    "    'ALUCE005':    'Asian alone',\n",
    "    'ALUCE006':    'Native Hawaiian and Other Pacific Islander alone',\n",
    "    'ALUCE007':    'Some other race alone',\n",
    "    'ALUCE008':    'Two or more races',\n",
    "    'ALUCE009':    'Two or more races: Two races including Some other race',\n",
    "    'ALUCE010':    'Two or more races: Two races excluding Some other race, and three or more races',\n",
    "    # Poverty\n",
    "    'ALWVE001':    'Poverty total',\n",
    "    'ALWVE002':    'Under .50',\n",
    "    'ALWVE003':    '.50 to .99',\n",
    "    'ALWVE004':    '1.00 to 1.24',\n",
    "    'ALWVE005':    '1.25 to 1.49',\n",
    "    'ALWVE006':    '1.50 to 1.84',\n",
    "    'ALWVE007':    '1.85 to 1.99',\n",
    "    'ALWVE008':    '2.00 and over',\n",
    "    # Income\n",
    "    'ALW1E001':    'Median household income',\n",
    "    # Vehicles\n",
    "    'AL0NE001':    'Vehicles total',\n",
    "    'AL0NE002':    'Owner occupied',\n",
    "    'AL0NE003':    'Owner occupied: No vehicle available',\n",
    "    'AL0NE004':    'Owner occupied: 1 vehicle available',\n",
    "    'AL0NE005':    'Owner occupied: 2 vehicles available',\n",
    "    'AL0NE006':    'Owner occupied: 3 vehicles available',\n",
    "    'AL0NE007':    'Owner occupied: 4 vehicles available',\n",
    "    'AL0NE008':    'Owner occupied: 5 or more vehicles available',\n",
    "    'AL0NE009':    'Renter occupied',\n",
    "    'AL0NE010':    'Renter occupied: No vehicle available',\n",
    "    'AL0NE011':    'Renter occupied: 1 vehicle available',\n",
    "    'AL0NE012':    'Renter occupied: 2 vehicles available',\n",
    "    'AL0NE013':    'Renter occupied: 3 vehicles available',\n",
    "    'AL0NE014':    'Renter occupied: 4 vehicles available',\n",
    "    'AL0NE015':    'Renter occupied: 5 or more vehicles available'\n",
    "})"
   ]
  },
  {
   "cell_type": "code",
   "execution_count": 4,
   "id": "6da4eec1-d4a1-439c-948c-3efa78420b11",
   "metadata": {},
   "outputs": [],
   "source": [
    "data['Percent Population NonWhite'] = ( data['Total'] - data['White alone'] ) / data['Total']"
   ]
  },
  {
   "cell_type": "code",
   "execution_count": 5,
   "id": "bc2f85ec-d4e5-4eb5-8d60-4f6062f08fc0",
   "metadata": {},
   "outputs": [],
   "source": [
    "data['Percent Popoulation Impoverished/At Risk'] = ( data['Under .50'] + data['.50 to .99'] + data['1.00 to 1.24'] + data['1.25 to 1.49'] ) / data['Poverty total']"
   ]
  },
  {
   "cell_type": "code",
   "execution_count": 6,
   "id": "34e88f41-2cf7-4304-add6-c807ab96bb9d",
   "metadata": {},
   "outputs": [],
   "source": [
    "data['Percent Population Without Transportation'] = ( data['Owner occupied: No vehicle available'] + data['Renter occupied: No vehicle available'] ) / data['Vehicles total']"
   ]
  },
  {
   "cell_type": "code",
   "execution_count": 41,
   "id": "24565052-1225-4144-9a2e-a554e59e600c",
   "metadata": {},
   "outputs": [],
   "source": [
    "data['Income as percent of maximum'] = data['Median household income']/max(data['Median household income'])\n",
    "data['CensusTractID'] = data['GEOID'].str[7:18].astype(int)"
   ]
  },
  {
   "cell_type": "code",
   "execution_count": 42,
   "id": "0580b4b1-3fe0-4b94-b0b8-e0828f358dae",
   "metadata": {},
   "outputs": [],
   "source": [
    "# incorporate USDA food desert definitions\n",
    "food_access = pd.read_csv('/Users/jamesgeiger/University of Nebraska Omaha/FALL 2021/ECON 4320/project/food_access_data.csv')"
   ]
  },
  {
   "cell_type": "code",
   "execution_count": 43,
   "id": "d21e12ca-7093-4b2f-90c0-2943464c55ad",
   "metadata": {},
   "outputs": [],
   "source": [
    "food_access = food_access[(food_access['State'] == 'Nebraska')]\n",
    "food_access = food_access[(food_access['County'] == 'Douglas County') | (food_access['County'] == 'Sarpy County')]\n",
    "food_access = food_access[['CensusTract','LILATracts_1And10', 'LILATracts_halfAnd10', 'LILATracts_1And20', 'LILATracts_Vehicle']]"
   ]
  },
  {
   "cell_type": "code",
   "execution_count": 44,
   "id": "e9e13cd6-299a-4341-9874-43f77e96ecfb",
   "metadata": {},
   "outputs": [],
   "source": [
    "data = data.merge(food_access, left_on='CensusTractID', right_on='CensusTract', how='left')"
   ]
  },
  {
   "cell_type": "code",
   "execution_count": 45,
   "id": "f1160881-d6f0-4538-995d-9a05816fad80",
   "metadata": {},
   "outputs": [],
   "source": [
    "data.to_csv('/Users/jamesgeiger/University of Nebraska Omaha/FALL 2021/ECON 4320/project/acs_data.csv')"
   ]
  },
  {
   "cell_type": "markdown",
   "id": "4691c76a-7717-4a8a-9c5a-6bdb89865853",
   "metadata": {},
   "source": [
    "# Places Analysis"
   ]
  },
  {
   "cell_type": "code",
   "execution_count": 9,
   "id": "f3d3b939-328f-441b-b255-e37a311820db",
   "metadata": {},
   "outputs": [],
   "source": [
    "import geopandas as gpd\n",
    "from shapely.ops import nearest_points"
   ]
  },
  {
   "cell_type": "code",
   "execution_count": 10,
   "id": "853bc46a-5890-499d-a798-2f51d38b0063",
   "metadata": {},
   "outputs": [],
   "source": [
    "places_df = pd.read_csv('/Users/jamesgeiger/University of Nebraska Omaha/FALL 2021/ECON 4320/project/places.csv')"
   ]
  },
  {
   "cell_type": "code",
   "execution_count": 11,
   "id": "12c5355c-0869-4be7-8841-765ad943e002",
   "metadata": {},
   "outputs": [],
   "source": [
    "places = gpd.GeoDataFrame(places_df, geometry=gpd.points_from_xy(places_df.latitude, places_df.longitude))"
   ]
  },
  {
   "cell_type": "code",
   "execution_count": 12,
   "id": "736101f6-b391-45de-b486-c3a527f7c4fd",
   "metadata": {},
   "outputs": [],
   "source": [
    "blocks_gdf = gpd.read_file('/Users/jamesgeiger/University of Nebraska Omaha/FALL 2021/ECON 4320/project/nhgis0004_shape/nhgis0004_shapefile_tl2019_310_blck_grp_2019/NE_blck_grp_2019.shp', crs=\"EPSG:4236\")"
   ]
  },
  {
   "cell_type": "code",
   "execution_count": 13,
   "id": "6aa37ce6-9b38-4fc7-9a86-31576e771416",
   "metadata": {},
   "outputs": [],
   "source": [
    "blocks = gpd.GeoDataFrame(blocks_gdf, geometry=gpd.points_from_xy(blocks_gdf.INTPTLAT, blocks_gdf.INTPTLON))"
   ]
  },
  {
   "cell_type": "code",
   "execution_count": 14,
   "id": "68dea575-76b5-4116-ab01-fb1674201144",
   "metadata": {},
   "outputs": [],
   "source": [
    "def nearest(row, geom_union, df1, df2, geom1_col='geometry', geom2_col='geometry', src_column=None):\n",
    "    \"\"\"Find the nearest point and return the corresponding value from specified column.\"\"\"\n",
    "    # Find the geometry that is closest\n",
    "    nearest = df2[geom2_col] == nearest_points(row[geom1_col], geom_union)[1]\n",
    "    # Get the corresponding value from df2 (matching is based on the geometry)\n",
    "    value = df2[nearest][src_column].values[0]\n",
    "    return value"
   ]
  },
  {
   "cell_type": "code",
   "execution_count": 15,
   "id": "c8e5b2f5-9e9b-4d4b-87e5-a8e647383c91",
   "metadata": {},
   "outputs": [],
   "source": [
    "unary_union = places.unary_union"
   ]
  },
  {
   "cell_type": "code",
   "execution_count": 16,
   "id": "11225488-c184-4e42-b61f-fcc5c1a36595",
   "metadata": {},
   "outputs": [],
   "source": [
    "blocks['nearest_placekey'] = blocks.apply(nearest, geom_union=unary_union, df1=blocks, df2=places, src_column='placekey', axis=1)\n",
    "blocks['nearest_place_point'] = blocks.apply(nearest, geom_union=unary_union, df1=blocks, df2=places, src_column='geometry', axis=1)"
   ]
  },
  {
   "cell_type": "code",
   "execution_count": 17,
   "id": "5a2bed73-6ce2-4343-b53a-2d2c94361b96",
   "metadata": {},
   "outputs": [],
   "source": [
    "blocks = blocks.merge(data, on=\"GISJOIN\")\n",
    "blocks = blocks[(blocks['COUNTYFP'] == '055')|(blocks['COUNTYFP']=='153')]"
   ]
  },
  {
   "cell_type": "code",
   "execution_count": 18,
   "id": "98110702-6dea-4a1d-95b7-e97c72538579",
   "metadata": {},
   "outputs": [],
   "source": [
    "places = places.merge(blocks, left_on=\"placekey\", right_on=\"nearest_placekey\")"
   ]
  },
  {
   "cell_type": "code",
   "execution_count": 19,
   "id": "766fa926-3486-425d-a5b2-c19ac9d8ab33",
   "metadata": {},
   "outputs": [],
   "source": [
    "plcs = places.groupby(['placekey']).sum().reset_index()"
   ]
  },
  {
   "cell_type": "code",
   "execution_count": 20,
   "id": "b3ce8a22-36ed-44ed-a6c3-d8d14d9b8da5",
   "metadata": {},
   "outputs": [],
   "source": [
    "plcs = plcs[['placekey','Total']].rename(columns={'Total':'Service Catchment Total'})"
   ]
  },
  {
   "cell_type": "code",
   "execution_count": 21,
   "id": "0e9be9d7-db66-4821-bc35-a89b842071ff",
   "metadata": {},
   "outputs": [],
   "source": [
    "places_df.merge(plcs).to_csv('places_2.csv')"
   ]
  }
 ],
 "metadata": {
  "kernelspec": {
   "display_name": "Python 3 (ipykernel)",
   "language": "python",
   "name": "python3"
  },
  "language_info": {
   "codemirror_mode": {
    "name": "ipython",
    "version": 3
   },
   "file_extension": ".py",
   "mimetype": "text/x-python",
   "name": "python",
   "nbconvert_exporter": "python",
   "pygments_lexer": "ipython3",
   "version": "3.8.10"
  }
 },
 "nbformat": 4,
 "nbformat_minor": 5
}
